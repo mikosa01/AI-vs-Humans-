{
 "cells": [
  {
   "cell_type": "code",
   "execution_count": 38,
   "metadata": {},
   "outputs": [
    {
     "name": "stderr",
     "output_type": "stream",
     "text": [
      "[nltk_data] Downloading package wordnet to /Users/mikosa/nltk_data...\n",
      "[nltk_data]   Package wordnet is already up-to-date!\n"
     ]
    },
    {
     "data": {
      "text/plain": [
       "True"
      ]
     },
     "execution_count": 38,
     "metadata": {},
     "output_type": "execute_result"
    }
   ],
   "source": [
    "import pandas as pd \n",
    "import nltk\n",
    "import re \n",
    "import sklearn\n",
    "import matplotlib.pyplot as plt\n",
    "from  nltk.corpus import stopwords\n",
    "from nltk.stem import WordNetLemmatizer \n",
    "import numpy as np \n",
    "from sklearn.feature_extraction.text import TfidfVectorizer\n",
    "import matplotlib.pyplot as plt \n",
    "\n",
    "nltk.download('wordnet')"
   ]
  },
  {
   "cell_type": "code",
   "execution_count": 24,
   "metadata": {},
   "outputs": [],
   "source": [
    "def read_data(filename):\n",
    "    \"\"\"\n",
    "    Reads data from a CSV file into a pandas DataFrame.\n",
    "\n",
    "    Parameters:\n",
    "    - filename (str): The name of the CSV file to read.\n",
    "\n",
    "    Returns:\n",
    "    - data (DataFrame): The DataFrame containing the data read from the CSV file.\n",
    "    \"\"\"\n",
    "    data = pd.read_csv(filename)\n",
    "    return data\n"
   ]
  },
  {
   "cell_type": "code",
   "execution_count": 25,
   "metadata": {},
   "outputs": [],
   "source": [
    "# Calling the read_data function to read the 'AI_Human.csv' file into a DataFrame named 'data'\n",
    "data = read_data('data/AI_Human.csv')\n"
   ]
  },
  {
   "cell_type": "code",
   "execution_count": 26,
   "metadata": {},
   "outputs": [
    {
     "data": {
      "text/html": [
       "<div>\n",
       "<style scoped>\n",
       "    .dataframe tbody tr th:only-of-type {\n",
       "        vertical-align: middle;\n",
       "    }\n",
       "\n",
       "    .dataframe tbody tr th {\n",
       "        vertical-align: top;\n",
       "    }\n",
       "\n",
       "    .dataframe thead th {\n",
       "        text-align: right;\n",
       "    }\n",
       "</style>\n",
       "<table border=\"1\" class=\"dataframe\">\n",
       "  <thead>\n",
       "    <tr style=\"text-align: right;\">\n",
       "      <th></th>\n",
       "      <th>text</th>\n",
       "      <th>generated</th>\n",
       "    </tr>\n",
       "  </thead>\n",
       "  <tbody>\n",
       "    <tr>\n",
       "      <th>0</th>\n",
       "      <td>Cars. Cars have been around since they became ...</td>\n",
       "      <td>0.0</td>\n",
       "    </tr>\n",
       "    <tr>\n",
       "      <th>1</th>\n",
       "      <td>Transportation is a large necessity in most co...</td>\n",
       "      <td>0.0</td>\n",
       "    </tr>\n",
       "    <tr>\n",
       "      <th>2</th>\n",
       "      <td>\"America's love affair with it's vehicles seem...</td>\n",
       "      <td>0.0</td>\n",
       "    </tr>\n",
       "    <tr>\n",
       "      <th>3</th>\n",
       "      <td>How often do you ride in a car? Do you drive a...</td>\n",
       "      <td>0.0</td>\n",
       "    </tr>\n",
       "    <tr>\n",
       "      <th>4</th>\n",
       "      <td>Cars are a wonderful thing. They are perhaps o...</td>\n",
       "      <td>0.0</td>\n",
       "    </tr>\n",
       "  </tbody>\n",
       "</table>\n",
       "</div>"
      ],
      "text/plain": [
       "                                                text  generated\n",
       "0  Cars. Cars have been around since they became ...        0.0\n",
       "1  Transportation is a large necessity in most co...        0.0\n",
       "2  \"America's love affair with it's vehicles seem...        0.0\n",
       "3  How often do you ride in a car? Do you drive a...        0.0\n",
       "4  Cars are a wonderful thing. They are perhaps o...        0.0"
      ]
     },
     "execution_count": 26,
     "metadata": {},
     "output_type": "execute_result"
    }
   ],
   "source": [
    "# Displaying the first few rows of the DataFrame to show the mapping between labels and categories:\n",
    "# - 0.0 corresponds to 'Human'\n",
    "# - 1.0 corresponds to 'AI'\n",
    "data.head()"
   ]
  },
  {
   "cell_type": "code",
   "execution_count": 29,
   "metadata": {},
   "outputs": [
    {
     "name": "stderr",
     "output_type": "stream",
     "text": [
      "/Users/mikosa/nlp/lib/python3.9/site-packages/numpy/core/fromnumeric.py:59: FutureWarning: 'DataFrame.swapaxes' is deprecated and will be removed in a future version. Please use 'DataFrame.transpose' instead.\n",
      "  return bound(*args, **kwds)\n"
     ]
    }
   ],
   "source": [
    "# Splitting the data into training, validation, and testing sets using numpy's split function\n",
    "# The data is shuffled using sample(frac=1) and a random_state of 50 is set for reproducibility\n",
    "# The split points are calculated based on the lengths of the data:\n",
    "# - 70% of the data is allocated for training\n",
    "# - 25% of the data is allocated for validation\n",
    "# - 5% of the data is allocated for testing\n",
    "train, val, test = np.split(data.sample(frac=1, random_state=50),\n",
    "                             [int(0.7*len(data)), int(0.95 * len(data))])\n"
   ]
  },
  {
   "cell_type": "code",
   "execution_count": 30,
   "metadata": {},
   "outputs": [
    {
     "data": {
      "text/html": [
       "<div>\n",
       "<style scoped>\n",
       "    .dataframe tbody tr th:only-of-type {\n",
       "        vertical-align: middle;\n",
       "    }\n",
       "\n",
       "    .dataframe tbody tr th {\n",
       "        vertical-align: top;\n",
       "    }\n",
       "\n",
       "    .dataframe thead th {\n",
       "        text-align: right;\n",
       "    }\n",
       "</style>\n",
       "<table border=\"1\" class=\"dataframe\">\n",
       "  <thead>\n",
       "    <tr style=\"text-align: right;\">\n",
       "      <th></th>\n",
       "      <th>text</th>\n",
       "      <th>generated</th>\n",
       "    </tr>\n",
       "  </thead>\n",
       "  <tbody>\n",
       "    <tr>\n",
       "      <th>51900</th>\n",
       "      <td>There are some undeniable advantages of not dr...</td>\n",
       "      <td>0.0</td>\n",
       "    </tr>\n",
       "    <tr>\n",
       "      <th>410588</th>\n",
       "      <td>Iitle: the Advantages of Limiting Car Usage: A...</td>\n",
       "      <td>1.0</td>\n",
       "    </tr>\n",
       "    <tr>\n",
       "      <th>370362</th>\n",
       "      <td>All around the world in places such as the Uni...</td>\n",
       "      <td>0.0</td>\n",
       "    </tr>\n",
       "    <tr>\n",
       "      <th>89364</th>\n",
       "      <td>Have you ever seen or ever been on Mars? Most ...</td>\n",
       "      <td>0.0</td>\n",
       "    </tr>\n",
       "    <tr>\n",
       "      <th>339228</th>\n",
       "      <td>Zoos are like super cool places where You can ...</td>\n",
       "      <td>1.0</td>\n",
       "    </tr>\n",
       "  </tbody>\n",
       "</table>\n",
       "</div>"
      ],
      "text/plain": [
       "                                                     text  generated\n",
       "51900   There are some undeniable advantages of not dr...        0.0\n",
       "410588  Iitle: the Advantages of Limiting Car Usage: A...        1.0\n",
       "370362  All around the world in places such as the Uni...        0.0\n",
       "89364   Have you ever seen or ever been on Mars? Most ...        0.0\n",
       "339228  Zoos are like super cool places where You can ...        1.0"
      ]
     },
     "execution_count": 30,
     "metadata": {},
     "output_type": "execute_result"
    }
   ],
   "source": [
    "train.head()"
   ]
  },
  {
   "cell_type": "code",
   "execution_count": 61,
   "metadata": {},
   "outputs": [],
   "source": [
    "# Extracting text and generated labels from the training set\n",
    "x_train, y_train = train['text'].values, train['generated'].values\n",
    "\n",
    "# Extracting text and generated labels from the validation set\n",
    "x_val, y_val = val['text'].values, val['generated'].values\n",
    "\n",
    "# Extracting text and generated labels from the testing set\n",
    "x_test, y_test = test['text'].values, test['generated'].values\n"
   ]
  },
  {
   "cell_type": "code",
   "execution_count": 62,
   "metadata": {},
   "outputs": [],
   "source": [
    "# Regular expression patterns for replacing bad words and symbols\n",
    "REPLACE_BAD_WORD = re.compile('[/(){}\\[\\]\\|@,;]')\n",
    "BAD_SYMBOL = re.compile('[^0-9a-z ]')\n",
    "\n",
    "# Set of English stopwords for text preprocessing\n",
    "STOPWORDS = set(stopwords.words('english'))\n",
    "\n",
    "# WordNet lemmatizer for lemmatization\n",
    "lemma = WordNetLemmatizer()\n",
    "\n",
    "def text_preprocess(text):\n",
    "    \"\"\"\n",
    "    Preprocesses the input text by converting to lowercase, removing bad words and symbols, \n",
    "    lemmatizing, and removing stopwords.\n",
    "\n",
    "    Parameters:\n",
    "    - text (str): The input text to be preprocessed.\n",
    "\n",
    "    Returns:\n",
    "    - processed_text (str): The preprocessed text.\n",
    "    \"\"\"\n",
    "    text = text.lower()  # Convert text to lowercase\n",
    "    text = REPLACE_BAD_WORD.sub(' ', text)  # Replace bad words with spaces\n",
    "    text = BAD_SYMBOL.sub(' ', text)  # Remove symbols\n",
    "    text = ' '.join(lemma.lemmatize(word) for word in text.split() if word not in STOPWORDS)  # Lemmatize and remove stopwords\n",
    "\n",
    "    return text\n"
   ]
  },
  {
   "cell_type": "code",
   "execution_count": 63,
   "metadata": {},
   "outputs": [],
   "source": [
    "# Preprocessing the text data in the training set using the text_preprocess function\n",
    "x_train = [text_preprocess(x) for x in x_train]\n",
    "\n",
    "# Preprocessing the text data in the validation set using the text_preprocess function\n",
    "x_val = [text_preprocess(x) for x in x_val]\n",
    "\n",
    "# Preprocessing the text data in the testing set using the text_preprocess function\n",
    "x_test = [text_preprocess(x) for x in x_test]\n"
   ]
  },
  {
   "cell_type": "code",
   "execution_count": 66,
   "metadata": {},
   "outputs": [
    {
     "name": "stdout",
     "output_type": "stream",
     "text": [
      "student,car,people\n"
     ]
    }
   ],
   "source": [
    "# Dictionary to store word counts\n",
    "words_count = {}\n",
    "\n",
    "# Counting occurrences of each word in the training set\n",
    "for text in x_train:\n",
    "    for word in text.split():\n",
    "        if word in words_count:\n",
    "            words_count[word] += 1\n",
    "        else:\n",
    "            words_count[word] = 1\n",
    "\n",
    "# Finding the top 3 most common words\n",
    "top_words = sorted(words_count.items(), key=lambda x: x[1], reverse=True)[:3]\n",
    "\n",
    "# Extracting the names of the top words\n",
    "top_words_names = [word[0] for word in top_words]\n",
    "\n",
    "# Creating a comma-separated string of the top words\n",
    "word_output = ','.join(top_words_names)\n",
    "\n",
    "# Printing the output\n",
    "print(word_output)\n"
   ]
  },
  {
   "cell_type": "code",
   "execution_count": 82,
   "metadata": {},
   "outputs": [],
   "source": [
    "def tfidf_features(x_train, x_val, x_test):\n",
    "    \"\"\"\n",
    "    Extract TF-IDF features from the input text data.\n",
    "\n",
    "    Parameters:\n",
    "    - x_train (list): List of strings containing the training text data.\n",
    "    - x_val (list): List of strings containing the validation text data.\n",
    "    - x_test (list): List of strings containing the testing text data.\n",
    "\n",
    "    Returns:\n",
    "    - X_train (sparse matrix): TF-IDF features of the training text data.\n",
    "    - X_val (sparse matrix): TF-IDF features of the validation text data.\n",
    "    - X_test (sparse matrix): TF-IDF features of the testing text data.\n",
    "    - vocabulary (dict): Vocabulary learned from the training data.\n",
    "    \"\"\"\n",
    "    # Define parameters for TF-IDF vectorization\n",
    "    max_df_value = 0.9  # Ignore terms that appear in more than 90% of documents\n",
    "    min_df_value = 0.01  # Ignore terms that appear in less than 1% of documents\n",
    "\n",
    "    # Initialize TF-IDF vectorizer with specified parameters\n",
    "    tfidf_vector = TfidfVectorizer(min_df=min_df_value, max_df=max_df_value, ngram_range=(1, 2), token_pattern=r'\\b\\w+\\b')\n",
    "\n",
    "    # Fit the vectorizer on the training data and transform all sets\n",
    "    tfidf_vector.fit(x_train)\n",
    "    X_train = tfidf_vector.transform(x_train)\n",
    "    X_val = tfidf_vector.transform(x_val)\n",
    "    X_test = tfidf_vector.transform(x_test)\n",
    "\n",
    "    # Get the vocabulary learned from the training data\n",
    "    vocabulary = tfidf_vector.vocabulary_\n",
    "\n",
    "    return X_train, X_val, X_test, vocabulary\n"
   ]
  },
  {
   "cell_type": "code",
   "execution_count": 83,
   "metadata": {},
   "outputs": [],
   "source": [
    "# Extracting TF-IDF features from the text data using the tfidf_features function\n",
    "x_train_tfidf, x_val_tfidf, x_test_tfidf, tfidf_vocab = tfidf_features(x_train, x_val, x_test) \n",
    "\n",
    "# Creating a reversed vocabulary dictionary for TF-IDF features\n",
    "tfidf_reversed_vocab = {i: word for word, i in tfidf_vocab.items()}\n"
   ]
  },
  {
   "cell_type": "code",
   "execution_count": 91,
   "metadata": {},
   "outputs": [
    {
     "data": {
      "text/plain": [
       "1137"
      ]
     },
     "execution_count": 91,
     "metadata": {},
     "output_type": "execute_result"
    }
   ],
   "source": [
    "tfidf_vocab['girl']"
   ]
  },
  {
   "cell_type": "code",
   "execution_count": 86,
   "metadata": {},
   "outputs": [
    {
     "data": {
      "text/plain": [
       "array([0., 1., 0., ..., 0., 0., 0.])"
      ]
     },
     "execution_count": 86,
     "metadata": {},
     "output_type": "execute_result"
    }
   ],
   "source": [
    "y_train"
   ]
  },
  {
   "cell_type": "code",
   "execution_count": 92,
   "metadata": {},
   "outputs": [],
   "source": [
    "from sklearn.linear_model import LogisticRegression, Ridge\n",
    "\n",
    "def train_classifier(x_train, y_train):\n",
    "    \"\"\"\n",
    "    Trains a logistic regression classifier using the input features and labels.\n",
    "\n",
    "    Parameters:\n",
    "    - x_train (sparse matrix): TF-IDF features of the training text data.\n",
    "    - y_train (array-like): Array-like object containing the labels for the training data.\n",
    "\n",
    "    Returns:\n",
    "    - clf (LogisticRegression): Trained logistic regression classifier.\n",
    "    \"\"\"\n",
    "    # Initialize and train a logistic regression classifier\n",
    "    clf = LogisticRegression().fit(x_train, y_train)\n",
    "    \n",
    "    return clf"
   ]
  },
  {
   "cell_type": "code",
   "execution_count": 93,
   "metadata": {},
   "outputs": [],
   "source": [
    "# Training a logistic regression classifier using the TF-IDF features of the training data\n",
    "my_classifier = train_classifier(x_train_tfidf, y_train)\n"
   ]
  },
  {
   "cell_type": "code",
   "execution_count": 94,
   "metadata": {},
   "outputs": [],
   "source": [
    "# Predicting labels for the validation set using the trained classifier\n",
    "y_pred_val = my_classifier.predict(x_val_tfidf)\n",
    "\n",
    "# Calculating decision function scores for the validation set using the trained classifier\n",
    "y_val_predicted_scores_tfidf = my_classifier.decision_function(x_val_tfidf)\n"
   ]
  },
  {
   "cell_type": "code",
   "execution_count": 108,
   "metadata": {},
   "outputs": [],
   "source": [
    "label_name = {'Human':0, 'AI':1}"
   ]
  },
  {
   "cell_type": "code",
   "execution_count": 95,
   "metadata": {},
   "outputs": [],
   "source": [
    "from sklearn.metrics import accuracy_score\n",
    "from sklearn.metrics import f1_score\n",
    "from sklearn.metrics import roc_auc_score \n",
    "from sklearn.metrics import average_precision_score\n",
    "from sklearn.metrics import recall_score"
   ]
  },
  {
   "cell_type": "code",
   "execution_count": 96,
   "metadata": {},
   "outputs": [],
   "source": [
    "from sklearn.metrics import accuracy_score, f1_score, average_precision_score\n",
    "\n",
    "def print_evaluation_scores(y_val, predicted):\n",
    "    \"\"\"\n",
    "    Prints evaluation scores such as accuracy, F1 scores, and precision scores.\n",
    "\n",
    "    Parameters:\n",
    "    - y_val (array-like): Array-like object containing the true labels.\n",
    "    - predicted (array-like): Array-like object containing the predicted labels.\n",
    "    \"\"\"\n",
    "    # Calculate and print accuracy score\n",
    "    print(f\"Accuracy Score: {accuracy_score(y_val, predicted)}\")\n",
    "\n",
    "    # Calculate and print F1 score (macro, micro, weighted)\n",
    "    print(f\"F1 Score (Macro): {f1_score(y_val, predicted, average='macro')}\")\n",
    "    print(f\"F1 Score (Micro): {f1_score(y_val, predicted, average='micro')}\")\n",
    "    print(f\"F1 Score (Weighted): {f1_score(y_val, predicted, average='weighted')}\")\n",
    "\n",
    "    # Calculate and print precision score (macro, micro, weighted)\n",
    "    print(f\"Precision (Macro): {average_precision_score(y_val, predicted, average='macro')}\")\n",
    "    print(f\"Precision (Micro): {average_precision_score(y_val, predicted, average='micro')}\")\n",
    "    print(f\"Precision (Weighted): {average_precision_score(y_val, predicted, average='weighted')}\")\n"
   ]
  },
  {
   "cell_type": "code",
   "execution_count": 97,
   "metadata": {},
   "outputs": [
    {
     "name": "stdout",
     "output_type": "stream",
     "text": [
      "Accuracy Score: 0.9916837015327274\n",
      "F1 Score(Macro): 0.9910721625534494\n",
      "F1 Score(Micro): 0.9916837015327274\n",
      "F1 Score(Weighted): 0.9916773521160982\n",
      "Precision(Macro): 0.9831280815926449\n",
      "Precision(Micro): 0.9831280815926449\n",
      "Precision(Weighted): 0.9831280815926449\n"
     ]
    }
   ],
   "source": [
    "print_evaluation_scores(y_val, y_pred_val)"
   ]
  },
  {
   "cell_type": "code",
   "execution_count": 98,
   "metadata": {},
   "outputs": [
    {
     "name": "stdout",
     "output_type": "stream",
     "text": [
      "Accuracy Score: 0.9926318814064222\n",
      "F1 Score(Macro): 0.9921104828323886\n",
      "F1 Score(Micro): 0.9926318814064222\n",
      "F1 Score(Weighted): 0.9926262142245309\n",
      "Precision(Macro): 0.9853579572290236\n",
      "Precision(Micro): 0.9853579572290236\n",
      "Precision(Weighted): 0.9853579572290236\n"
     ]
    }
   ],
   "source": [
    "print_evaluation_scores(y_train, my_classifier.predict(x_train_tfidf))"
   ]
  },
  {
   "cell_type": "code",
   "execution_count": 134,
   "metadata": {},
   "outputs": [
    {
     "data": {
      "image/png": "[encoded data removed]",
      "text/plain": [
       "<Figure size 640x480 with 1 Axes>"
      ]
     },
     "metadata": {},
     "output_type": "display_data"
    }
   ],
   "source": [
    "# Predicting probabilities for the positive class (AI) using the trained classifier\n",
    "y_pred_proba = my_classifier.predict_proba(x_val_tfidf)[:, 1]\n",
    "\n",
    "# Calculating the false positive rate (fpr) and true positive rate (tpr) for the ROC curve\n",
    "fpr, tpr, _ = sklearn.metrics.roc_curve(y_val, y_pred_proba)\n",
    "\n",
    "# Calculating the area under the ROC curve (AUC)\n",
    "auc = sklearn.metrics.roc_auc_score(y_val, y_pred_proba)\n",
    "\n",
    "# Plotting the ROC curve\n",
    "plt.plot(fpr, tpr, label=\"ROC, auc=\" + str(auc))\n",
    "plt.title('Human AI classification ROC')\n",
    "plt.ylabel('True Positive Rate')\n",
    "plt.xlabel('False Positive Rate')\n",
    "plt.legend(loc=4)\n",
    "plt.show()\n"
   ]
  }
 ],
 "metadata": {
  "kernelspec": {
   "display_name": "nlp",
   "language": "python",
   "name": "python3"
  },
  "language_info": {
   "codemirror_mode": {
    "name": "ipython",
    "version": 3
   },
   "file_extension": ".py",
   "mimetype": "text/x-python",
   "name": "python",
   "nbconvert_exporter": "python",
   "pygments_lexer": "ipython3",
   "version": "3.9.6"
  }
 },
 "nbformat": 4,
 "nbformat_minor": 2
}
